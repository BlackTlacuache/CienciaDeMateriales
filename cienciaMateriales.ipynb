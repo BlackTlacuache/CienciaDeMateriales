{
 "cells": [
  {
   "cell_type": "code",
   "execution_count": 1,
   "metadata": {},
   "outputs": [],
   "source": [
    "import pandas as pd\n",
    "import numpy as np\n",
    "import re"
   ]
  },
  {
   "cell_type": "code",
   "execution_count": 2,
   "metadata": {},
   "outputs": [],
   "source": [
    "file = './datos/PeriodicTableofElementsCRadiusIones.xlsx'\n",
    "df = pd.read_excel(file)\n",
    "simbolo = df['Symbol'].to_list()\n",
    "df = df.set_index('Symbol')"
   ]
  },
  {
   "cell_type": "code",
   "execution_count": 3,
   "metadata": {},
   "outputs": [],
   "source": [
    "class Elemento:\n",
    "    def __init__(self, num_atomico, elemento, masa_atomica, neutrones, protones, electrones, periodo, grupo, fase, radioctividad, natural, tipo, radio_atomico, electronegatividad, primera_ionizacion, densidad, fusion, evaporacion, cantidad_isotopos, descubridor, año, calor_especifico, num_orbitas, num_valencia, estructura, ion, radio_ionico):\n",
    "        self.num_atomico = num_atomico\n",
    "        self.elemento = elemento\n",
    "        self.masa_atomica = masa_atomica\n",
    "        self.neutrones = neutrones\n",
    "        self.protones = protones\n",
    "        self.electrones = electrones\n",
    "        self.periodo = periodo\n",
    "        self.grupo = grupo\n",
    "        self.fase = fase\n",
    "        self.radioctividad = radioctividad\n",
    "        self.natural = natural\n",
    "        self.tipo = tipo\n",
    "        self.radio_atomico = radio_atomico\n",
    "        self.electronegatividad = electronegatividad\n",
    "        self.primera_ionizacion = primera_ionizacion\n",
    "        self.densidad = densidad\n",
    "        self.fusion = fusion\n",
    "        self.evaporacion = evaporacion\n",
    "        self.cantidad_isotopos = cantidad_isotopos\n",
    "        self.descubridor = descubridor\n",
    "        self.año = año\n",
    "        self.calor_especifico = calor_especifico\n",
    "        self.num_orbitas = num_orbitas\n",
    "        self.num_valencia = num_valencia\n",
    "        self.estructura = estructura\n",
    "        self.ion = ion\n",
    "        self.radio_ionico = radio_ionico\n",
    "        \n",
    "        #Constantes\n",
    "        self.cons_avogadro = 6.023*10**23\n",
    "        self.cons_coulomb = 9*10**9\n",
    "        self.cons_carga_elemental = 0.16*10**(-18)\n",
    "    \n",
    "    def numAtomosEnVol(uwu, VolEnvase):\n",
    "        return np.format_float_scientific(uwu.densidad *VolEnvase * uwu.cons_avogadro / uwu.masa_atomica)\n",
    "    \n",
    "    def atomosEnPeso(element, peso):\n",
    "        return (peso / element.masa_atomica)*element.cons_avogadro\n",
    "    \n",
    "    def densidadCompuestos(volumen,*elementos):\n",
    "        return sum([x.masa_atomica for x in elementos]) / volumen\n",
    "    \n",
    "    def dimensionDeCubo(element):\n",
    "        return (element.masa_atomica/element.densidad)**(1/3)\n",
    "    \n",
    "    def masaCompuesto(*element):\n",
    "        return sum([x.masa_atomica for x in element])\n",
    "    \n",
    "    def confElectronica(element):\n",
    "        tabla = ['1s2','2s2','2p6','3s2','3p6','4s2','3d10', '4p6', '5s2','4d10','5p6', '6s2', '4f14', '5d10', '6p6', '7s2', '5f14', '6d10', '7p6', '6f14', '7d10', '7f14']\n",
    "        uwu = 0\n",
    "        lim = element.num_atomico\n",
    "        confElectr = []\n",
    "        for i in tabla:\n",
    "            p = re.findall(r'-?\\d+\\.?\\d*', i)\n",
    "            confElectr.append(i)\n",
    "            owo = int(p[1])\n",
    "            if uwu < lim - owo:\n",
    "                uwu+=owo\n",
    "            else:\n",
    "                confElectr.pop()\n",
    "                lx = abs(lim - uwu)\n",
    "                if len(i) == 3:\n",
    "                    i = i.replace(i[-1], str(lx))\n",
    "                else:\n",
    "                    for o in range(len(i)-2):\n",
    "                        i = i.replace(i[-1], '')\n",
    "                    i = i+str(abs(lim - uwu))\n",
    "                confElectr.append(i)\n",
    "                break\n",
    "        return confElectr\n",
    "    \n",
    "    def numCoordinacion(element1, element2):\n",
    "        if element1.radio_atomico > element2.radio_atomico:\n",
    "            R = element1.radio_atomico\n",
    "            r = element2.radio_atomico\n",
    "        else:\n",
    "            R = element2.radio_atomico\n",
    "            r = element1.radio_atomico\n",
    "        Ratio = r/R\n",
    "        angulo = np.arccos(R/(r+R))*(180/np.pi) \n",
    "\n",
    "        if Ratio > 0 and Ratio < 0.155:\n",
    "            NumCoordi = 2\n",
    "            estructura = 'Lineal'\n",
    "        elif Ratio >= 0.155 and Ratio < 0.225:\n",
    "            NumCoordi = 3\n",
    "            estructura = 'Trigonal Plana'\n",
    "        elif Ratio >= 0.225 and Ratio < 0.414:\n",
    "            NumCoordi = 4\n",
    "            estructura = 'Tetraédrica o cuadrada planar'\n",
    "        elif Ratio >= 0.414 and Ratio < 0.732:\n",
    "            NumCoordi = 6\n",
    "            estructura = 'Octaédrica'\n",
    "        elif Ratio >= 0.732 and Ratio < 1:\n",
    "            NumCoordi = 8\n",
    "            estructura = 'Cubica Centrada en el Cuerpo'\n",
    "        elif Ratio == 1:\n",
    "            NumCoordi = 12\n",
    "            estructura = '?'\n",
    "    \n",
    "        return Ratio , angulo , NumCoordi, estructura\n",
    "    \n",
    "    def hummeRothery(element1, element2):\n",
    "        ratio = (element2.radio_atomico - element1.radio_atomico)/element1.radio_atomico\n",
    "        diff_electr = element1.electronegatividad - element2.electronegatividad\n",
    "        return ratio * 100, diff_electr\n",
    "\n",
    "    def fuerzaCoulomb(estado1, estado2, *element):\n",
    "        return -(Elemento.cons_coulomb* (Elemento.cons_carga_elemental)**2 * estado1 * estado2)/(sum([x.radio_atomico for x in element]))\n",
    "    \n",
    "    def densidadCalculada(forma,element):\n",
    "        if forma == 'bcc':\n",
    "            a = 4*element.radio_atomico/np.sqrt(3)\n",
    "            c = 2\n",
    "        elif forma == 'fcc':\n",
    "            a = 4*element.radio_atomico/np.sqrt(2)\n",
    "            c = 4\n",
    "        elif forma == 'hcp':\n",
    "            a = 2*element.radio_atomico\n",
    "            c = 6\n",
    "        densida = ((c*element.masa_atomica )/((a**3)*element.cons_avogadro)) * (10**7)**3/(1)\n",
    "        return densida\n",
    "    \n",
    "\n",
    "    def densidadCompuesto(elemento1, elemento2, at1, at2):\n",
    "        masa_compuesto = at1*elemento1.masa_atomica + at2 * elemento2.masa_atomica\n",
    "        return (masa_compuesto/elemento2.cons_avogadro)/(2*elemento2.radio_atomico+2*elemento1.radio_atomico)**3 *(10**7)**3\n",
    "    \n",
    "    def interpretacionCompuestos(uwu):\n",
    "        pattern2 = r'[A-Z][a-z]*'\n",
    "        elementos = re.findall(pattern2,uwu)\n",
    "\n",
    "        cantidades = re.split(pattern2,uwu)\n",
    "        cantidades.pop(0)\n",
    "        cantidades = [x.replace('', '1') if x == '' else x for x in cantidades]\n",
    "        \n",
    "        return elementos, cantidades \n",
    "    \n",
    "    def estadoCompuestos(densidad,*element): \n",
    "        \n",
    "        pass\n"
   ]
  },
  {
   "cell_type": "code",
   "execution_count": 4,
   "metadata": {},
   "outputs": [],
   "source": [
    "df = df.fillna('')\n",
    "nombre = []\n",
    "for i in simbolo:\n",
    "    # globals()[i]= Elemento.CrearElemento(df.iloc[i].to_list()) \n",
    "    globals()[i]= Elemento(df.loc[i, 'AtomicNumber'],df.loc[i, 'Element'],df.loc[i, 'AtomicMass'],df.loc[i, 'NumberofNeutrons'],df.loc[i, 'NumberofProtons'],df.loc[i, 'NumberofElectrons'],df.loc[i, 'Period'],df.loc[i, 'Group'],df.loc[i, 'Phase'],df.loc[i, 'Radioactive'],df.loc[i, 'Natural'], df.loc[i, 'Type'],df.loc[i, 'AtomicRadius2'],df.loc[i, 'Electronegativity'],df.loc[i, 'FirstIonization'],df.loc[i, 'Density'],df.loc[i, 'MeltingPoint'],df.loc[i, 'BoilingPoint'],df.loc[i, 'NumberOfIsotopes'],df.loc[i, 'Discoverer'],df.loc[i, 'Year'],df.loc[i, 'SpecificHeat'],df.loc[i,'NumberofShells'],df.loc[i, 'NumberofValence'],df.loc[i, 'Estructura'], df.loc[i,'Ion'], df.loc[i,'IonicRadius']) "
   ]
  },
  {
   "cell_type": "code",
   "execution_count": 5,
   "metadata": {},
   "outputs": [
    {
     "name": "stdout",
     "output_type": "stream",
     "text": [
      "5.126683711078505e+24 Átomos\n"
     ]
    }
   ],
   "source": [
    "print(Elemento.numAtomosEnVol(Au,86.868), 'Átomos')\n"
   ]
  },
  {
   "cell_type": "code",
   "execution_count": 6,
   "metadata": {},
   "outputs": [
    {
     "name": "stdout",
     "output_type": "stream",
     "text": [
      "3.600395397559357 g/cm^3\n"
     ]
    }
   ],
   "source": [
    "print(Elemento.densidadCompuestos(2.237**3, Mg, O) , 'g/cm^3')"
   ]
  },
  {
   "cell_type": "code",
   "execution_count": 7,
   "metadata": {},
   "outputs": [
    {
     "name": "stdout",
     "output_type": "stream",
     "text": [
      "2.4083270245356765 cm^3\n"
     ]
    }
   ],
   "source": [
    "print(Elemento.dimensionDeCubo(Mg), 'cm^3')"
   ]
  },
  {
   "cell_type": "code",
   "execution_count": 8,
   "metadata": {},
   "outputs": [
    {
     "name": "stdout",
     "output_type": "stream",
     "text": [
      "La suma de la masa de  40.304 g\n"
     ]
    }
   ],
   "source": [
    "print(f\"La suma de la masa de \", Elemento.masaCompuesto(Mg, O), 'g')\n"
   ]
  },
  {
   "cell_type": "code",
   "execution_count": 9,
   "metadata": {},
   "outputs": [
    {
     "name": "stdout",
     "output_type": "stream",
     "text": [
      "La longitud de un lado de un cubo de una mol de Copper es: 1.9212921261036098 cm\n",
      "La longitud de un lado de un cubo de una mol de Lead es: 2.636961379267417 cm\n"
     ]
    }
   ],
   "source": [
    "print(f\"La longitud de un lado de un cubo de una mol de {Cu.elemento} es:\",Elemento.dimensionDeCubo(Cu), 'cm')\n",
    "print(f\"La longitud de un lado de un cubo de una mol de {Pb.elemento} es:\",Elemento.dimensionDeCubo(Pb), 'cm')"
   ]
  },
  {
   "cell_type": "code",
   "execution_count": 10,
   "metadata": {},
   "outputs": [
    {
     "data": {
      "text/plain": [
       "0.293"
      ]
     },
     "execution_count": 10,
     "metadata": {},
     "output_type": "execute_result"
    }
   ],
   "source": [
    "Na.radio_atomico + Cl.radio_atomico"
   ]
  },
  {
   "cell_type": "code",
   "execution_count": 11,
   "metadata": {},
   "outputs": [
    {
     "name": "stdout",
     "output_type": "stream",
     "text": [
      "El elemento tiene número atómico 49 y su configuración electrónica es:\n",
      "['1s2', '2s2', '2p6', '3s2', '3p6', '4s2', '3d10', '4p6', '5s2', '4d10', '5p1']\n"
     ]
    }
   ],
   "source": [
    "element = In\n",
    "print(f'El elemento tiene número atómico {element.num_atomico} y su configuración electrónica es:\\n{In.confElectronica()}')"
   ]
  },
  {
   "cell_type": "code",
   "execution_count": 12,
   "metadata": {},
   "outputs": [
    {
     "data": {
      "text/plain": [
       "(0.5752688172043011, 50.593936487931, 6, 'Octaédrica')"
      ]
     },
     "execution_count": 12,
     "metadata": {},
     "output_type": "execute_result"
    }
   ],
   "source": [
    "Elemento.numCoordinacion(Cl, Na)\n"
   ]
  },
  {
   "cell_type": "code",
   "execution_count": 13,
   "metadata": {},
   "outputs": [
    {
     "data": {
      "text/plain": [
       "5.5836763451626056e+23"
      ]
     },
     "execution_count": 13,
     "metadata": {},
     "output_type": "execute_result"
    }
   ],
   "source": [
    "Elemento.atomosEnPeso(Ag,100)"
   ]
  },
  {
   "cell_type": "code",
   "execution_count": 14,
   "metadata": {},
   "outputs": [
    {
     "data": {
      "text/plain": [
       "['1s2', '2s2', '2p6', '3s2', '3p6', '4s2', '3d10', '4p6', '5s2', '4d10', '5p6']"
      ]
     },
     "execution_count": 14,
     "metadata": {},
     "output_type": "execute_result"
    }
   ],
   "source": [
    "Xe.confElectronica()"
   ]
  },
  {
   "cell_type": "code",
   "execution_count": 15,
   "metadata": {},
   "outputs": [
    {
     "data": {
      "text/plain": [
       "['1s2', '2s2', '2p6', '3s2', '3p6', '4s2', '3d10', '4p5']"
      ]
     },
     "execution_count": 15,
     "metadata": {},
     "output_type": "execute_result"
    }
   ],
   "source": [
    "Br.confElectronica()"
   ]
  },
  {
   "cell_type": "code",
   "execution_count": 16,
   "metadata": {},
   "outputs": [
    {
     "data": {
      "text/plain": [
       "(0.5752688172043011, 50.593936487931, 6, 'Octaédrica')"
      ]
     },
     "execution_count": 16,
     "metadata": {},
     "output_type": "execute_result"
    }
   ],
   "source": [
    "Elemento.numCoordinacion(Cl, Na)"
   ]
  },
  {
   "cell_type": "code",
   "execution_count": 17,
   "metadata": {},
   "outputs": [
    {
     "data": {
      "text/plain": [
       "(3.9062500000000036, 0.25)"
      ]
     },
     "execution_count": 17,
     "metadata": {},
     "output_type": "execute_result"
    }
   ],
   "source": [
    "Elemento.hummeRothery(Cu,Zn)"
   ]
  },
  {
   "cell_type": "code",
   "execution_count": 18,
   "metadata": {},
   "outputs": [
    {
     "data": {
      "text/plain": [
       "7.896566196233297"
      ]
     },
     "execution_count": 18,
     "metadata": {},
     "output_type": "execute_result"
    }
   ],
   "source": [
    "Elemento.densidadCalculada('bcc',Fe)"
   ]
  },
  {
   "attachments": {},
   "cell_type": "markdown",
   "metadata": {},
   "source": [
    "### Pruebas para intentar hacer otra función\n",
    "Lo que necesito es hacer que los posibles iones se puedan sumar o restar los estados es decir que del compuesto H2O se pueda determinar que O gana 2 electrones quedando O^-2 y H pierde un electrón, por lo que queda H^1, lo que llevo es lo siguiente:"
   ]
  },
  {
   "cell_type": "code",
   "execution_count": 19,
   "metadata": {},
   "outputs": [],
   "source": [
    "\n",
    "ionic = Elemento.interpretacionCompuestos('SiO2')"
   ]
  },
  {
   "cell_type": "code",
   "execution_count": 20,
   "metadata": {},
   "outputs": [],
   "source": [
    "estados = [globals()[x].ion for x in ionic[0]]"
   ]
  },
  {
   "cell_type": "code",
   "execution_count": 21,
   "metadata": {},
   "outputs": [
    {
     "name": "stdout",
     "output_type": "stream",
     "text": [
      "<class 'str'>\n",
      "<class 'str'>\n"
     ]
    }
   ],
   "source": [
    "# estados[0]\n",
    "for i in range(len(estados)):\n",
    "    print(type(estados[0]))\n",
    "    # if type(ionic[1][i]) == list:\n",
    "    #     int(ionic[1][0]) * int(estados[0])\n"
   ]
  },
  {
   "cell_type": "code",
   "execution_count": 27,
   "metadata": {},
   "outputs": [
    {
     "name": "stdout",
     "output_type": "stream",
     "text": [
      "[NbConvertApp] WARNING | pattern './cienciMateriales.ipynb' matched no files\n",
      "This application is used to convert notebook files (*.ipynb)\n",
      "        to various other formats.\n",
      "\n",
      "        WARNING: THE COMMANDLINE INTERFACE MAY CHANGE IN FUTURE RELEASES.\n",
      "\n",
      "Options\n",
      "=======\n",
      "The options below are convenience aliases to configurable class-options,\n",
      "as listed in the \"Equivalent to\" description-line of the aliases.\n",
      "To see all configurable class-options for some <cmd>, use:\n",
      "    <cmd> --help-all\n",
      "\n",
      "--debug\n",
      "    set log level to logging.DEBUG (maximize logging output)\n",
      "    Equivalent to: [--Application.log_level=10]\n",
      "--show-config\n",
      "    Show the application's configuration (human-readable format)\n",
      "    Equivalent to: [--Application.show_config=True]\n",
      "--show-config-json\n",
      "    Show the application's configuration (json format)\n",
      "    Equivalent to: [--Application.show_config_json=True]\n",
      "--generate-config\n",
      "    generate default config file\n",
      "    Equivalent to: [--JupyterApp.generate_config=True]\n",
      "-y\n",
      "    Answer yes to any questions instead of prompting.\n",
      "    Equivalent to: [--JupyterApp.answer_yes=True]\n",
      "--execute\n",
      "    Execute the notebook prior to export.\n",
      "    Equivalent to: [--ExecutePreprocessor.enabled=True]\n",
      "--allow-errors\n",
      "    Continue notebook execution even if one of the cells throws an error and include the error message in the cell output (the default behaviour is to abort conversion). This flag is only relevant if '--execute' was specified, too.\n",
      "    Equivalent to: [--ExecutePreprocessor.allow_errors=True]\n",
      "--stdin\n",
      "    read a single notebook file from stdin. Write the resulting notebook with default basename 'notebook.*'\n",
      "    Equivalent to: [--NbConvertApp.from_stdin=True]\n",
      "--stdout\n",
      "    Write notebook output to stdout instead of files.\n",
      "    Equivalent to: [--NbConvertApp.writer_class=StdoutWriter]\n",
      "--inplace\n",
      "    Run nbconvert in place, overwriting the existing notebook (only\n",
      "            relevant when converting to notebook format)\n",
      "    Equivalent to: [--NbConvertApp.use_output_suffix=False --NbConvertApp.export_format=notebook --FilesWriter.build_directory=]\n",
      "--clear-output\n",
      "    Clear output of current file and save in place,\n",
      "            overwriting the existing notebook.\n",
      "    Equivalent to: [--NbConvertApp.use_output_suffix=False --NbConvertApp.export_format=notebook --FilesWriter.build_directory= --ClearOutputPreprocessor.enabled=True]\n",
      "--no-prompt\n",
      "    Exclude input and output prompts from converted document.\n",
      "    Equivalent to: [--TemplateExporter.exclude_input_prompt=True --TemplateExporter.exclude_output_prompt=True]\n",
      "--no-input\n",
      "    Exclude input cells and output prompts from converted document.\n",
      "            This mode is ideal for generating code-free reports.\n",
      "    Equivalent to: [--TemplateExporter.exclude_output_prompt=True --TemplateExporter.exclude_input=True --TemplateExporter.exclude_input_prompt=True]\n",
      "--allow-chromium-download\n",
      "    Whether to allow downloading chromium if no suitable version is found on the system.\n",
      "    Equivalent to: [--WebPDFExporter.allow_chromium_download=True]\n",
      "--disable-chromium-sandbox\n",
      "    Disable chromium security sandbox when converting to PDF..\n",
      "    Equivalent to: [--WebPDFExporter.disable_sandbox=True]\n",
      "--show-input\n",
      "    Shows code input. This flag is only useful for dejavu users.\n",
      "    Equivalent to: [--TemplateExporter.exclude_input=False]\n",
      "--embed-images\n",
      "    Embed the images as base64 dataurls in the output. This flag is only useful for the HTML/WebPDF/Slides exports.\n",
      "    Equivalent to: [--HTMLExporter.embed_images=True]\n",
      "--sanitize-html\n",
      "    Whether the HTML in Markdown cells and cell outputs should be sanitized..\n",
      "    Equivalent to: [--HTMLExporter.sanitize_html=True]\n",
      "--log-level=<Enum>\n",
      "    Set the log level by value or name.\n",
      "    Choices: any of [0, 10, 20, 30, 40, 50, 'DEBUG', 'INFO', 'WARN', 'ERROR', 'CRITICAL']\n",
      "    Default: 30\n",
      "    Equivalent to: [--Application.log_level]\n",
      "--config=<Unicode>\n",
      "    Full path of a config file.\n",
      "    Default: ''\n",
      "    Equivalent to: [--JupyterApp.config_file]\n",
      "--to=<Unicode>\n",
      "    The export format to be used, either one of the built-in formats\n",
      "            ['asciidoc', 'custom', 'html', 'latex', 'markdown', 'notebook', 'pdf', 'python', 'qtpdf', 'qtpng', 'rst', 'script', 'slides', 'webpdf']\n",
      "            or a dotted object name that represents the import path for an\n",
      "            ``Exporter`` class\n",
      "    Default: ''\n",
      "    Equivalent to: [--NbConvertApp.export_format]\n",
      "--template=<Unicode>\n",
      "    Name of the template to use\n",
      "    Default: ''\n",
      "    Equivalent to: [--TemplateExporter.template_name]\n",
      "--template-file=<Unicode>\n",
      "    Name of the template file to use\n",
      "    Default: None\n",
      "    Equivalent to: [--TemplateExporter.template_file]\n",
      "--theme=<Unicode>\n",
      "    Template specific theme(e.g. the name of a JupyterLab CSS theme distributed\n",
      "    as prebuilt extension for the lab template)\n",
      "    Default: 'light'\n",
      "    Equivalent to: [--HTMLExporter.theme]\n",
      "--sanitize_html=<Bool>\n",
      "    Whether the HTML in Markdown cells and cell outputs should be sanitized.This\n",
      "    should be set to True by nbviewer or similar tools.\n",
      "    Default: False\n",
      "    Equivalent to: [--HTMLExporter.sanitize_html]\n",
      "--writer=<DottedObjectName>\n",
      "    Writer class used to write the\n",
      "                                        results of the conversion\n",
      "    Default: 'FilesWriter'\n",
      "    Equivalent to: [--NbConvertApp.writer_class]\n",
      "--post=<DottedOrNone>\n",
      "    PostProcessor class used to write the\n",
      "                                        results of the conversion\n",
      "    Default: ''\n",
      "    Equivalent to: [--NbConvertApp.postprocessor_class]\n",
      "--output=<Unicode>\n",
      "    overwrite base name use for output files.\n",
      "                can only be used when converting one notebook at a time.\n",
      "    Default: ''\n",
      "    Equivalent to: [--NbConvertApp.output_base]\n",
      "--output-dir=<Unicode>\n",
      "    Directory to write output(s) to. Defaults\n",
      "                                  to output to the directory of each notebook. To recover\n",
      "                                  previous default behaviour (outputting to the current\n",
      "                                  working directory) use . as the flag value.\n",
      "    Default: ''\n",
      "    Equivalent to: [--FilesWriter.build_directory]\n",
      "--reveal-prefix=<Unicode>\n",
      "    The URL prefix for reveal.js (version 3.x).\n",
      "            This defaults to the reveal CDN, but can be any url pointing to a copy\n",
      "            of reveal.js.\n",
      "            For speaker notes to work, this must be a relative path to a local\n",
      "            copy of reveal.js: e.g., \"reveal.js\".\n",
      "            If a relative path is given, it must be a subdirectory of the\n",
      "            current directory (from which the server is run).\n",
      "            See the usage documentation\n",
      "            (https://nbconvert.readthedocs.io/en/latest/usage.html#reveal-js-html-slideshow)\n",
      "            for more details.\n",
      "    Default: ''\n",
      "    Equivalent to: [--SlidesExporter.reveal_url_prefix]\n",
      "--nbformat=<Enum>\n",
      "    The nbformat version to write.\n",
      "            Use this to downgrade notebooks.\n",
      "    Choices: any of [1, 2, 3, 4]\n",
      "    Default: 4\n",
      "    Equivalent to: [--NotebookExporter.nbformat_version]\n",
      "\n",
      "Examples\n",
      "--------\n",
      "\n",
      "    The simplest way to use nbconvert is\n",
      "\n",
      "            > jupyter nbconvert mynotebook.ipynb --to html\n",
      "\n",
      "            Options include ['asciidoc', 'custom', 'html', 'latex', 'markdown', 'notebook', 'pdf', 'python', 'qtpdf', 'qtpng', 'rst', 'script', 'slides', 'webpdf'].\n",
      "\n",
      "            > jupyter nbconvert --to latex mynotebook.ipynb\n",
      "\n",
      "            Both HTML and LaTeX support multiple output templates. LaTeX includes\n",
      "            'base', 'article' and 'report'.  HTML includes 'basic', 'lab' and\n",
      "            'classic'. You can specify the flavor of the format used.\n",
      "\n",
      "            > jupyter nbconvert --to html --template lab mynotebook.ipynb\n",
      "\n",
      "            You can also pipe the output to stdout, rather than a file\n",
      "\n",
      "            > jupyter nbconvert mynotebook.ipynb --stdout\n",
      "\n",
      "            PDF is generated via latex\n",
      "\n",
      "            > jupyter nbconvert mynotebook.ipynb --to pdf\n",
      "\n",
      "            You can get (and serve) a Reveal.js-powered slideshow\n",
      "\n",
      "            > jupyter nbconvert myslides.ipynb --to slides --post serve\n",
      "\n",
      "            Multiple notebooks can be given at the command line in a couple of\n",
      "            different ways:\n",
      "\n",
      "            > jupyter nbconvert notebook*.ipynb\n",
      "            > jupyter nbconvert notebook1.ipynb notebook2.ipynb\n",
      "\n",
      "            or you can specify the notebooks list in a config file, containing::\n",
      "\n",
      "                c.NbConvertApp.notebooks = [\"my_notebook.ipynb\"]\n",
      "\n",
      "            > jupyter nbconvert --config mycfg.py\n",
      "\n",
      "To see all available configurables, use `--help-all`.\n",
      "\n"
     ]
    }
   ],
   "source": [
    "!jupyter nbconvert --to python ./cienciMateriales.ipynb"
   ]
  }
 ],
 "metadata": {
  "kernelspec": {
   "display_name": "Python 3",
   "language": "python",
   "name": "python3"
  },
  "language_info": {
   "codemirror_mode": {
    "name": "ipython",
    "version": 3
   },
   "file_extension": ".py",
   "mimetype": "text/x-python",
   "name": "python",
   "nbconvert_exporter": "python",
   "pygments_lexer": "ipython3",
   "version": "3.10.10"
  },
  "orig_nbformat": 4
 },
 "nbformat": 4,
 "nbformat_minor": 2
}
