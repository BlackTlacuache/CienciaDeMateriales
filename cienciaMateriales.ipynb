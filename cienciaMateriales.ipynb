{
 "cells": [
  {
   "cell_type": "code",
   "execution_count": 1,
   "metadata": {},
   "outputs": [],
   "source": [
    "import pandas as pd\n",
    "import numpy as np\n",
    "import re"
   ]
  },
  {
   "cell_type": "code",
   "execution_count": 2,
   "metadata": {},
   "outputs": [],
   "source": [
    "file = './PeriodicTableofElements.csv'\n",
    "df = pd.read_csv(file)\n",
    "simbolo = df['Symbol'].to_list()\n",
    "df = df.set_index('Symbol')\n",
    "# df = df.set_index(['Symbol'])"
   ]
  },
  {
   "cell_type": "code",
   "execution_count": 3,
   "metadata": {},
   "outputs": [],
   "source": [
    "#Elemento, Simbolo, MassAtomica\n",
    "        # self.Simbolo = Simbolo\n",
    "\n",
    "class Elemento:\n",
    "    def __init__(self, NumAtomico, Elemento, MassAtomica, Neutrones, Protones, Electrones, Periodo, Grupo, Fase, Radioctividad, Natural, Metal, NoMetal, Metaloide, Tipo, RadioAtomico, Electronegatividad, PrimeraIonizacion, Densidad, Fusion, Evaporacion, CantIsotopos, Descubridor, Año, CalorEspecifico, NumOrbitas, NumVale ):\n",
    "        self.NumAtomico = NumAtomico\n",
    "        self.Elemento = Elemento\n",
    "        self.MassAtomica = MassAtomica\n",
    "        self.Neutrones = Neutrones\n",
    "        self.Protones = Protones\n",
    "        self.Electrones = Electrones\n",
    "        self.Periodo = Periodo\n",
    "        self.Grupo = Grupo\n",
    "        self.Fase = Fase\n",
    "        self.Radioctividad = Radioctividad\n",
    "        self.Natural = Natural\n",
    "        self.Metal = Metal\n",
    "        self.NoMetal = NoMetal\n",
    "        self.Metaloide = Metaloide\n",
    "        self.Tipo = Tipo\n",
    "        self.RadioAtomico = RadioAtomico\n",
    "        self.Electronegatividad = Electronegatividad\n",
    "        self.PrimeraIonizacion = PrimeraIonizacion\n",
    "        self.Densidad = Densidad\n",
    "        self.Fusion = Fusion\n",
    "        self.Evaporacion = Evaporacion\n",
    "        self.CantIsotopos = CantIsotopos\n",
    "        self.Descubridor = Descubridor\n",
    "        self.Año = Año\n",
    "        self.CalorEspecifico = CalorEspecifico\n",
    "        self.NumOrbitas = NumOrbitas\n",
    "        self.NumVale = NumVale\n",
    "    \n",
    "    def Avogadro():\n",
    "        return 6.023*10**23\n",
    "    \n",
    "    def NumAtomosEnVol(uwu, VolEnvase):\n",
    "        return np.format_float_scientific(uwu.Densidad *VolEnvase * Elemento.Avogadro() / uwu.MassAtomica)\n",
    "    \n",
    "    def DensidadCompuestos(volumen,*elementos):\n",
    "        peso = 0\n",
    "        for element in elementos:\n",
    "            peso += element.MassAtomica\n",
    "        return peso / volumen\n",
    "    \n",
    "    def DimensionDeCubo(element):\n",
    "        return (element.MassAtomica/element.Densidad)**(1/3)\n",
    "    \n",
    "    def MasaCompuesto(*element):\n",
    "        return sum([x.MassAtomica for x in element])\n",
    "    \n",
    "    def ConfElectronica(element):\n",
    "        tabla = ['1s2','2s2','2p6','3s2','3p6','4s2','3d10', '4p6', '5s2','4d10','5p6', '6s2', '4f14', '5d10', '6p6', '7s2', '5f14', '6d10', '7p6', '6f14', '7d10', '7f14']\n",
    "        uwu = 0\n",
    "        lim = element.NumAtomico\n",
    "        confElectr = []\n",
    "        for i in tabla:\n",
    "            p = re.findall(r'-?\\d+\\.?\\d*', i)\n",
    "            confElectr.append(i)\n",
    "            owo = int(p[1])\n",
    "            if uwu < lim - owo:\n",
    "                uwu+=owo\n",
    "            else:\n",
    "                confElectr.pop()\n",
    "                lx = abs(lim - uwu)\n",
    "                if len(i) == 3:\n",
    "                    i = i.replace(i[-1], str(lx))\n",
    "                else:\n",
    "                    for o in range(len(i)-2):\n",
    "                        i = i.replace(i[-1], '')\n",
    "                    i = i+str(abs(lim - uwu))\n",
    "                    # i.replace(i)\n",
    "                confElectr.append(i)\n",
    "                break\n",
    "        return confElectr"
   ]
  },
  {
   "cell_type": "code",
   "execution_count": 4,
   "metadata": {},
   "outputs": [],
   "source": [
    "\n",
    "nombre = []\n",
    "for i in simbolo:\n",
    "    # globals()[i]= Elemento.CrearElemento(df.iloc[i].to_list()) \n",
    "    globals()[i]= Elemento(df.loc[i, 'AtomicNumber'],df.loc[i, 'Element'],df.loc[i, 'AtomicMass'],df.loc[i, 'NumberofNeutrons'],df.loc[i, 'NumberofProtons'],df.loc[i, 'NumberofElectrons'],df.loc[i, 'Period'],df.loc[i, 'Group'],df.loc[i, 'Phase'],df.loc[i, 'Radioactive'],df.loc[i, 'Natural'],df.loc[i, 'Metal'],df.loc[i, 'Nonmetal'],df.loc[i, 'Metalloid'],df.loc[i, 'Type'],df.loc[i, 'AtomicRadius'],df.loc[i, 'Electronegativity'],df.loc[i, 'FirstIonization'],df.loc[i, 'Density'],df.loc[i, 'MeltingPoint'],df.loc[i, 'BoilingPoint'],df.loc[i, 'NumberOfIsotopes'],df.loc[i, 'Discoverer'],df.loc[i, 'Year'],df.loc[i, 'SpecificHeat'],df.loc[i, 'NumberofShells'],df.loc[i, 'NumberofValence']) "
   ]
  },
  {
   "cell_type": "code",
   "execution_count": 5,
   "metadata": {},
   "outputs": [
    {
     "name": "stdout",
     "output_type": "stream",
     "text": [
      "6.6665679665124466e+10 Átomos\n"
     ]
    }
   ],
   "source": [
    "print(Elemento.NumAtomosEnVol(Cu,7.85*10**(-13)), 'Átomos')\n"
   ]
  },
  {
   "cell_type": "code",
   "execution_count": 6,
   "metadata": {},
   "outputs": [
    {
     "name": "stdout",
     "output_type": "stream",
     "text": [
      "3.600395397559357 g/cm^3\n"
     ]
    }
   ],
   "source": [
    "print(Elemento.DensidadCompuestos(2.237**3, Mg, O) , 'g/cm^3')"
   ]
  },
  {
   "cell_type": "code",
   "execution_count": 7,
   "metadata": {},
   "outputs": [
    {
     "name": "stdout",
     "output_type": "stream",
     "text": [
      "2.4083270245356765 cm^3\n"
     ]
    }
   ],
   "source": [
    "print(Elemento.DimensionDeCubo(Mg), 'cm^3')"
   ]
  },
  {
   "cell_type": "code",
   "execution_count": 8,
   "metadata": {},
   "outputs": [
    {
     "name": "stdout",
     "output_type": "stream",
     "text": [
      "La suma de la masa de  40.304 g\n"
     ]
    }
   ],
   "source": [
    "print(f\"La suma de la masa de \", Elemento.MasaCompuesto(Mg, O), 'g')\n"
   ]
  },
  {
   "cell_type": "code",
   "execution_count": 9,
   "metadata": {},
   "outputs": [
    {
     "name": "stdout",
     "output_type": "stream",
     "text": [
      "La longitud de un lado de un cubo de una mol de Copper es: 1.9212921261036098 cm\n",
      "La longitud de un lado de un cubo de una mol de Lead es: 2.636961379267417 cm\n"
     ]
    }
   ],
   "source": [
    "print(f\"La longitud de un lado de un cubo de una mol de {Cu.Elemento} es:\",Elemento.DimensionDeCubo(Cu), 'cm')\n",
    "print(f\"La longitud de un lado de un cubo de una mol de {Pb.Elemento} es:\",Elemento.DimensionDeCubo(Pb), 'cm')"
   ]
  },
  {
   "cell_type": "code",
   "execution_count": 10,
   "metadata": {},
   "outputs": [
    {
     "data": {
      "text/plain": [
       "3.17"
      ]
     },
     "execution_count": 10,
     "metadata": {},
     "output_type": "execute_result"
    }
   ],
   "source": [
    "Na.RadioAtomico + Cl.RadioAtomico"
   ]
  },
  {
   "cell_type": "code",
   "execution_count": 11,
   "metadata": {},
   "outputs": [
    {
     "name": "stdout",
     "output_type": "stream",
     "text": [
      "El elemento tiene número atómico 49 y su configuración electrónica es:\n",
      "['1s2', '2s2', '2p6', '3s2', '3p6', '4s2', '3d10', '4p6', '5s2', '4d10', '5p1']\n"
     ]
    }
   ],
   "source": [
    "element = In\n",
    "print(f'El elemento tiene número atómico {element.NumAtomico} y su configuración electrónica es:\\n{In.ConfElectronica()}')"
   ]
  },
  {
   "cell_type": "code",
   "execution_count": null,
   "metadata": {},
   "outputs": [],
   "source": []
  }
 ],
 "metadata": {
  "kernelspec": {
   "display_name": "Python 3",
   "language": "python",
   "name": "python3"
  },
  "language_info": {
   "codemirror_mode": {
    "name": "ipython",
    "version": 3
   },
   "file_extension": ".py",
   "mimetype": "text/x-python",
   "name": "python",
   "nbconvert_exporter": "python",
   "pygments_lexer": "ipython3",
   "version": "3.10.10"
  },
  "orig_nbformat": 4
 },
 "nbformat": 4,
 "nbformat_minor": 2
}
